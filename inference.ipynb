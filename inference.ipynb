{
 "cells": [
  {
   "cell_type": "markdown",
   "id": "worse-blocking",
   "metadata": {},
   "source": [
    "# Mushroom classifier\n",
    "\n",
    "This application employs a neural network to determine whether that white mushroom is _Amanita virosa_ or _Agaricus sp._\n",
    "Upload an image to get a prediction.\n",
    "\n",
    "Note: you are responsible for recognizing mushrooms yourself. The results from this app are indicative and are not to be relied upon."
   ]
  },
  {
   "cell_type": "code",
   "execution_count": 1,
   "id": "retained-affect",
   "metadata": {
    "tags": []
   },
   "outputs": [
    {
     "ename": "ModuleNotFoundError",
     "evalue": "No module named 'fastai'",
     "output_type": "error",
     "traceback": [
      "\u001b[1;31m---------------------------------------------------------------------------\u001b[0m",
      "\u001b[1;31mModuleNotFoundError\u001b[0m                       Traceback (most recent call last)",
      "\u001b[1;32m<ipython-input-1-925d1a1b2691>\u001b[0m in \u001b[0;36m<module>\u001b[1;34m\u001b[0m\n\u001b[1;32m----> 1\u001b[1;33m \u001b[1;32mfrom\u001b[0m \u001b[0mfastai\u001b[0m \u001b[1;32mimport\u001b[0m \u001b[0mload_learner\u001b[0m\u001b[1;33m\u001b[0m\u001b[1;33m\u001b[0m\u001b[0m\n\u001b[0m\u001b[0;32m      2\u001b[0m \u001b[1;32mimport\u001b[0m \u001b[0mfastai\u001b[0m\u001b[1;33m.\u001b[0m\u001b[0mvision\u001b[0m\u001b[1;33m.\u001b[0m\u001b[0mwidgets\u001b[0m \u001b[1;32mas\u001b[0m \u001b[0mwidgets\u001b[0m\u001b[1;33m\u001b[0m\u001b[1;33m\u001b[0m\u001b[0m\n",
      "\u001b[1;31mModuleNotFoundError\u001b[0m: No module named 'fastai'"
     ]
    }
   ],
   "source": [
    "import torch\n",
    "\n",
    "from ipywidgets import Button, FileUpload, Label, Output, VBox\n",
    "from fastai.learner import load_learner\n",
    "from fastai.vision.core import PILImage\n",
    "from pathlib import Path"
   ]
  },
  {
   "cell_type": "code",
   "execution_count": null,
   "id": "thirty-soldier",
   "metadata": {},
   "outputs": [],
   "source": [
    "root_path = Path()\n",
    "learner = load_learner(root_path/'export.pkl')\n",
    "category_labels = learner.dls.vocab"
   ]
  },
  {
   "cell_type": "code",
   "execution_count": null,
   "id": "attempted-leeds",
   "metadata": {},
   "outputs": [],
   "source": [
    "btn_upload = FileUpload()\n",
    "\n",
    "lbl_pred = Label()\n",
    "out_pl = Output()\n",
    "out_pl.clear_output()\n",
    "\n",
    "def on_click_classify(change):\n",
    "    img = PILImage.create(btn_upload.data[-1])\n",
    "    out_pl.clear_output()\n",
    "    \n",
    "    with out_pl:\n",
    "        display(img.to_thumb(224,224))\n",
    "        \n",
    "    pred, pred_idx, probs = learner.predict(img)\n",
    "    lbl_pred.value = f'Prediction: {pred}; Probability: {100 * probs[pred_idx]:.0f} %'\n",
    "    if (probs[pred_idx] < 0.95):\n",
    "        top_n = torch.topk(probs, 2)\n",
    "        next_idx = top_n.indices[1]\n",
    "        lbl_pred.value += f'; Next guess: {category_labels[next_idx]} ({100 * probs[next_idx]:.0f} %)'\n",
    "\n",
    "btn_run = Button(description='Classify')\n",
    "btn_run.on_click(on_click_classify)"
   ]
  },
  {
   "cell_type": "markdown",
   "id": "conventional-investigation",
   "metadata": {},
   "source": []
  },
  {
   "cell_type": "code",
   "execution_count": null,
   "id": "noble-landscape",
   "metadata": {},
   "outputs": [],
   "source": [
    "VBox([Label('Amanita or agaricus?'), \n",
    "      btn_upload, btn_run, out_pl, lbl_pred])"
   ]
  }
 ],
 "metadata": {
  "kernelspec": {
   "display_name": "Python 3",
   "language": "python",
   "name": "python3"
  },
  "language_info": {
   "codemirror_mode": {
    "name": "ipython",
    "version": 3
   },
   "file_extension": ".py",
   "mimetype": "text/x-python",
   "name": "python",
   "nbconvert_exporter": "python",
   "pygments_lexer": "ipython3",
   "version": "3.8.2"
  }
 },
 "nbformat": 4,
 "nbformat_minor": 5
}
